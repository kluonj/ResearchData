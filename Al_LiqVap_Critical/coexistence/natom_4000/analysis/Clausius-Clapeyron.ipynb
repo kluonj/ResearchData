{
 "cells": [
  {
   "cell_type": "code",
   "execution_count": 163,
   "id": "e24d6f10-74cc-4ee8-a01a-b0043db26b94",
   "metadata": {},
   "outputs": [],
   "source": [
    "import os, sys, scipy\n",
    "import math, glob\n",
    "import numpy as np\n",
    "import subprocess\n",
    "import matplotlib.pyplot as plt\n",
    "import pandas as pd\n",
    "    "
   ]
  },
  {
   "cell_type": "code",
   "execution_count": 164,
   "id": "5b3afa41-932c-419e-b3f1-1e49ae39bf88",
   "metadata": {},
   "outputs": [],
   "source": [
    "import scienceplots"
   ]
  },
  {
   "cell_type": "code",
   "execution_count": 165,
   "id": "36090e75-6540-498a-8479-4878940ae663",
   "metadata": {},
   "outputs": [],
   "source": [
    "def get_pressure_lammps(filename, start=0, end=-1, nskip=10, debug=False):\n",
    "# def get_pressure_lammps(filename, nskip=10, debug=False):\n",
    "    \"\"\"\n",
    "        This function reads running_md.log (default filename)\n",
    "        from molecular dynamics calculation.\n",
    "\n",
    "        It forms a numpy array of size: niteration rows x 2 columns\n",
    "        data[:,0] : the first column is iteration number\n",
    "        data[:,1] : the second column is the total pressure (ionic + electronic)\n",
    "    \"\"\"\n",
    "    with open(filename) as f:\n",
    "        lines = f.readlines()\n",
    "\n",
    "    step_indices = [i for i, line in enumerate(lines) if line.strip().startswith(\"Step\")]\n",
    "    loop_indices = [i for i, line in enumerate(lines) if \"Loop time\" in line]\n",
    "\n",
    "    # if len(step_indices) < 2 or len(loop_indices) < 2:\n",
    "    #     print(\"Not enough 'Step' or 'Loop time' entries found.\")\n",
    "    #     return\n",
    "\n",
    "    start_idx = step_indices[0] +1\n",
    "    # Find the first loop time after second Step\n",
    "    end_idx = next(i for i in loop_indices if i > start_idx)\n",
    "\n",
    "    # for line in lines[start_idx:end_idx + 1]:\n",
    "    #     print(line, end='')\n",
    "        \n",
    "\n",
    "    nlines=end_idx - start_idx - 2\n",
    "    data = np.zeros((nlines,2))\n",
    "    if debug:\n",
    "        print(\"nlines = \", nlines)\n",
    "    # # data = np.zeros((nlines,2), dtype=dtype )\n",
    "    for i in range(nlines):\n",
    "        data[i, 0] = int(i)\n",
    "        # if debug:\n",
    "        #     # print(relevant_lines[i].split())\n",
    "        #     print(\"number of lines: \",  int(nlines))\n",
    "        data[i, 1] = float(lines[i+start_idx].split()[2])\n",
    "\n",
    "    # after the data is extracted, get the average and standard deviation\n",
    "    avg = np.mean(data[start:end, 1], axis=0)\n",
    "    std = np.std(data[start:end:, 1], axis=0)\n",
    "    return float(avg), float(std)"
   ]
  },
  {
   "cell_type": "code",
   "execution_count": 166,
   "id": "f3e09f41-3c75-41e6-b9bd-0724a97385f4",
   "metadata": {},
   "outputs": [],
   "source": [
    "# get_pressure_lammps(\"./0.5-4000/log.lammps\", start=0)"
   ]
  },
  {
   "cell_type": "code",
   "execution_count": 167,
   "id": "840f95c7-492d-4340-9c5d-a456e4cdb7b5",
   "metadata": {},
   "outputs": [],
   "source": [
    "def pressure_nist_fit(T):\n",
    "    # T in K, P in bar\n",
    "    A = 5.73623\n",
    "    B = 13204.109\n",
    "    C = -24.306\n",
    "    # T range 1557 to 2329\n",
    "    return A-(B/(T+C))"
   ]
  },
  {
   "cell_type": "code",
   "execution_count": 168,
   "id": "8a317355-f27a-437f-ae26-d64edcef0f6a",
   "metadata": {},
   "outputs": [
    {
     "data": {
      "text/plain": [
       "np.float64(61.053021400000006)"
      ]
     },
     "execution_count": 168,
     "metadata": {},
     "output_type": "execute_result"
    }
   ],
   "source": [
    "press_data = np.loadtxt(\"../PROD/0.6-4000/ave.lammps\", skiprows=2)\n",
    "press = press_data[:,4]\n",
    "np.mean(press)"
   ]
  },
  {
   "cell_type": "code",
   "execution_count": 169,
   "id": "facbb0e4-9c78-436a-91d9-252830ec16ec",
   "metadata": {},
   "outputs": [],
   "source": [
    "def get_saturation_press(file):\n",
    "    press_data = np.loadtxt(file, skiprows=2)\n",
    "    avg = np.mean(press_data[:,4])\n",
    "    std = np.std(press_data[:,4])\n",
    "    return avg, std"
   ]
  },
  {
   "cell_type": "code",
   "execution_count": 170,
   "id": "92e6e944-ab7d-4a87-aa68-2a0eaa6f9272",
   "metadata": {},
   "outputs": [],
   "source": [
    "nist_T = np.linspace(1557, 2329, 100)\n",
    "# nist_T"
   ]
  },
  {
   "cell_type": "code",
   "execution_count": 171,
   "id": "14aecd6d-84b8-4251-809b-acca058a9c18",
   "metadata": {},
   "outputs": [],
   "source": [
    "import glob"
   ]
  },
  {
   "cell_type": "code",
   "execution_count": 172,
   "id": "16d9c035-04cc-4c45-9901-b087a825149f",
   "metadata": {},
   "outputs": [
    {
     "data": {
      "text/plain": [
       "['../PROD/0.6-3500/ave.lammps',\n",
       " '../PROD/0.6-3750/ave.lammps',\n",
       " '../PROD/0.6-4000/ave.lammps',\n",
       " '../PROD/0.6-4250/ave.lammps',\n",
       " '../PROD/0.6-4500/ave.lammps',\n",
       " '../PROD/0.6-4750/ave.lammps',\n",
       " '../PROD/0.6-5000/ave.lammps',\n",
       " '../PROD/0.6-5250/ave.lammps',\n",
       " '../PROD/0.6-5500/ave.lammps',\n",
       " '../PROD/0.6-5750/ave.lammps']"
      ]
     },
     "execution_count": 172,
     "metadata": {},
     "output_type": "execute_result"
    }
   ],
   "source": [
    "files = sorted(glob.glob(\"../PROD/*/ave.lammps\"))\n",
    "files = files[:-1]\n",
    "files"
   ]
  },
  {
   "cell_type": "code",
   "execution_count": 173,
   "id": "2b9eba92-e978-4a3c-b687-0591c463e6d9",
   "metadata": {},
   "outputs": [
    {
     "data": {
      "text/plain": [
       "24"
      ]
     },
     "execution_count": 173,
     "metadata": {},
     "output_type": "execute_result"
    }
   ],
   "source": [
    "outfile=open(\"clausius_clapeyron.csv\", \"w\")\n",
    "# outfile.write(\"1/T(K),P(kbar),Perr(kbar)\\n\")\n",
    "outfile.write(\"T(K),P(kbar),Perr(kbar)\\n\")"
   ]
  },
  {
   "cell_type": "code",
   "execution_count": 174,
   "id": "63de27f4-dccd-47f8-a093-bbdc6f6d6f0e",
   "metadata": {
    "scrolled": true
   },
   "outputs": [],
   "source": [
    "for file in files:\n",
    "    T = file.split(\"/\")[2].split(\"-\")[1]\n",
    "    # filename= os.path.join(\"./\", str(rho)+'-'+str(T), 'ave.lammps')\n",
    "    # avg, std = get_pressure_lammps(filename, start=90)\n",
    "    avg, std = get_saturation_press(file)\n",
    "    # print(\"%d,%.2f,%.3f,%.3f\" % (T,  rho, avg, std) )\n",
    "    # outfile.write(\"%.8e,%.4f,%.4f\\n\" % (1.0/T, avg/1e3, std/1e3))\n",
    "    outfile.write(\"%s,%.4f,%.4f\\n\" % (T, avg/1e3, std/1e3))\n",
    "outfile.close()"
   ]
  },
  {
   "cell_type": "code",
   "execution_count": 175,
   "id": "28e7e57a-2cdd-49f7-a14d-38699e9de7db",
   "metadata": {},
   "outputs": [],
   "source": [
    "# # RHOLIST=[0.4, 0.5, 0.6, 0.7, 0.8, 0.9, 1.0, 1.1, 1.2, 1.4]\n",
    "# RHOLIST=[0.5]\n",
    "# TLIST=[4000+i*125 for i in range(13)]\n",
    "\n",
    "# # TLIST = [4000,4500, 5000, 5500, 6000, 6500, 7000, 7500, 8000]\n",
    "\n",
    "\n",
    "# outfile=open(\"clausius_clapeyron.csv\", \"w\")\n",
    "# # outfile.write(\"1/T(K),P(kbar),Perr(kbar)\\n\")\n",
    "# outfile.write(\"T(K),P(kbar),Perr(kbar)\\n\")\n",
    "\n",
    "# for T in TLIST:\n",
    "#     for rho in RHOLIST:\n",
    "#         filename= os.path.join(\"./\", str(rho)+'-'+str(T), 'ave.lammps')\n",
    "#         # avg, std = get_pressure_lammps(filename, start=90)\n",
    "#         avg, std = get_saturation_press(filename)\n",
    "#         # print(\"%d,%.2f,%.3f,%.3f\" % (T,  rho, avg, std) )\n",
    "#         # outfile.write(\"%.8e,%.4f,%.4f\\n\" % (1.0/T, avg/1e3, std/1e3))\n",
    "#         outfile.write(\"%d,%.4f,%.4f\\n\" % (T, avg/1e3, std/1e3))\n",
    "# outfile.close()\n"
   ]
  },
  {
   "cell_type": "code",
   "execution_count": 176,
   "id": "ac59bfe4-6bc1-455b-ac34-c239c703ecd7",
   "metadata": {},
   "outputs": [],
   "source": [
    "df = pd.read_csv(\"clausius_clapeyron.csv\")\n",
    "# df"
   ]
  },
  {
   "cell_type": "code",
   "execution_count": 177,
   "id": "2748142e-18c6-4616-a863-2c9eead7e344",
   "metadata": {},
   "outputs": [],
   "source": [
    "bar2atm = 0.986923"
   ]
  },
  {
   "cell_type": "code",
   "execution_count": 178,
   "id": "d45de92d-61f1-4d3c-bd75-6d3e4da0dfd4",
   "metadata": {},
   "outputs": [],
   "source": [
    "# pressure_nist_fit(nist_T)"
   ]
  },
  {
   "cell_type": "code",
   "execution_count": 179,
   "id": "21955ee4-f3a7-4443-bc88-5ff09db257ad",
   "metadata": {},
   "outputs": [],
   "source": [
    "full_T = np.linspace(1500, 6000, 100)"
   ]
  },
  {
   "cell_type": "code",
   "execution_count": 180,
   "id": "744564fb-654f-40bc-80c9-821f6e35b97a",
   "metadata": {},
   "outputs": [],
   "source": [
    "expdata = np.loadtxt('cc.dat')\n",
    "# expdata"
   ]
  },
  {
   "cell_type": "markdown",
   "id": "d6ed1ac6-b358-423f-be0b-cf8b26758168",
   "metadata": {},
   "source": [
    "## Use ideal gas law to get vapor pressure "
   ]
  },
  {
   "cell_type": "code",
   "execution_count": 181,
   "id": "a92b3133-25e4-4b9b-8a96-1e37929f6fa1",
   "metadata": {},
   "outputs": [
    {
     "data": {
      "text/plain": [
       "['../PROD/0.6-3500/density_filter.dat',\n",
       " '../PROD/0.6-3750/density_filter.dat',\n",
       " '../PROD/0.6-4000/density_filter.dat',\n",
       " '../PROD/0.6-4250/density_filter.dat',\n",
       " '../PROD/0.6-4500/density_filter.dat',\n",
       " '../PROD/0.6-4750/density_filter.dat',\n",
       " '../PROD/0.6-5000/density_filter.dat',\n",
       " '../PROD/0.6-5250/density_filter.dat']"
      ]
     },
     "execution_count": 181,
     "metadata": {},
     "output_type": "execute_result"
    }
   ],
   "source": [
    "density_files = sorted( glob.glob(\"../PROD/*/density_filter.dat\") )\n",
    "density_files = density_files[:-3]\n",
    "# files = files[:-2]\n",
    "density_files"
   ]
  },
  {
   "cell_type": "code",
   "execution_count": 182,
   "id": "52aaadda-3187-4799-8923-1f42fdfe1a83",
   "metadata": {},
   "outputs": [],
   "source": [
    "result= []\n",
    "for file in density_files:\n",
    "    temp = file.split('/')[2].split('-')[1]\n",
    "    # print(temp)\n",
    "    data = list(np.loadtxt(file))\n",
    "    line = [temp] + [ i for i in data]\n",
    "    result.append(line)\n",
    "final= np.array(result, dtype=np.float32)\n",
    "np.savetxt(\"coexistence.dat\", final)"
   ]
  },
  {
   "cell_type": "code",
   "execution_count": 183,
   "id": "57974657-5827-42e4-ac18-00d35242db35",
   "metadata": {},
   "outputs": [],
   "source": [
    "T = final[:,0]\n",
    "rho_l = final[:,1]\n",
    "rho_l_err = final[:, 2]\n",
    "rho_v = final[:, 3]\n",
    "rho_v_err = final[:, 4]"
   ]
  },
  {
   "cell_type": "code",
   "execution_count": 184,
   "id": "8132c028-ef94-47b3-8c0c-b84db84ea622",
   "metadata": {},
   "outputs": [],
   "source": [
    "# Prepare data\n",
    "delta_rho = rho_l - rho_v\n",
    "avg_rho = 0.5 * (rho_l + rho_v)"
   ]
  },
  {
   "cell_type": "code",
   "execution_count": 185,
   "id": "173e8bde-705e-48c2-911e-ac42cc76298d",
   "metadata": {},
   "outputs": [],
   "source": [
    "import numpy as np\n",
    "from scipy.optimize import curve_fit\n",
    "import matplotlib.pyplot as plt\n",
    "\n",
    "# === Your input data ===\n",
    "T = final[:,0]\n",
    "rho_l = final[:,1]\n",
    "err_l = final[:, 2]\n",
    "rho_v = final[:, 3]\n",
    "err_v = final[:, 4]\n",
    "\n",
    "\n",
    "# === Fixed critical exponent ===\n",
    "beta_fixed = 0.326\n",
    "\n",
    "# Coexistence scaling law with fixed beta\n",
    "def scaling_law_fixed_beta(T, Tc, A):\n",
    "    return A * (Tc - T)**beta_fixed\n",
    "\n",
    "# Rectilinear diameter law (uses Tc from first fit)\n",
    "def rectilinear_diameter(T, Tc, rhoc, B):\n",
    "    return rhoc + B * (Tc - T)"
   ]
  },
  {
   "cell_type": "code",
   "execution_count": 186,
   "id": "7e31dae9-1d28-4605-9de2-de9c5f491a02",
   "metadata": {},
   "outputs": [
    {
     "name": "stdout",
     "output_type": "stream",
     "text": [
      "Tc     = 6559.862365 ± 48.321588\n",
      "A      = 0.126086 ± 0.000969\n",
      "rho_c  = 0.596788 ± 0.006995\n",
      "B      = 0.000088 ± 0.000003\n"
     ]
    }
   ],
   "source": [
    "from numpy import sqrt, diag\n",
    "\n",
    "# === Prepare data ===\n",
    "delta_rho = rho_l - rho_v\n",
    "avg_rho = 0.5 * (rho_l + rho_v)\n",
    "delta_rho_err = np.sqrt(err_l**2 + err_v**2)\n",
    "avg_rho_err = 0.5 * np.sqrt(err_l**2 + err_v**2)\n",
    "\n",
    "# Fit scaling law\n",
    "popt_diff, pcov_diff = curve_fit(scaling_law_fixed_beta, T, delta_rho, p0=[max(T) + 1, 1.0])\n",
    "Tc_fit, A_fit = popt_diff\n",
    "\n",
    "# Fit rectilinear diameter with Tc fixed\n",
    "popt_avg, pcov_avg = curve_fit(lambda T, rhoc, B: rectilinear_diameter(T, Tc_fit, rhoc, B), T, avg_rho, p0=[avg_rho[-1], 1.0])\n",
    "rhoc_fit, B_fit = popt_avg\n",
    "\n",
    "# Uncertainties from fit covariance matrices\n",
    "Tc_err = sqrt(pcov_diff[0, 0])      # error in Tc\n",
    "A_err = sqrt(pcov_diff[1, 1])       # error in A\n",
    "\n",
    "rhoc_err = sqrt(pcov_avg[0, 0])     # error in rhoc\n",
    "B_err = sqrt(pcov_avg[1, 1])        # error in B\n",
    "\n",
    "print(f\"Tc     = {Tc_fit:.6f} ± {Tc_err:.6f}\")\n",
    "print(f\"A      = {A_fit:.6f} ± {A_err:.6f}\")\n",
    "print(f\"rho_c  = {rhoc_fit:.6f} ± {rhoc_err:.6f}\")\n",
    "print(f\"B      = {B_fit:.6f} ± {B_err:.6f}\")\n"
   ]
  },
  {
   "cell_type": "code",
   "execution_count": 187,
   "id": "5dc6f20b-0dc2-4beb-b861-597e08f7e761",
   "metadata": {},
   "outputs": [],
   "source": [
    "# === Evaluate fitted density curves ===\n",
    "def rho_l_fit(T):\n",
    "    delta_rho = scaling_law_fixed_beta(T, Tc_fit, A_fit)\n",
    "    rho_avg = rectilinear_diameter(T, Tc_fit, rhoc_fit, B_fit)\n",
    "    return rho_avg + 0.5 * delta_rho\n",
    "\n",
    "def rho_v_fit(T):\n",
    "    delta_rho = scaling_law_fixed_beta(T, Tc_fit, A_fit)\n",
    "    rho_avg = rectilinear_diameter(T, Tc_fit, rhoc_fit, B_fit)\n",
    "    return rho_avg - 0.5 * delta_rho\n",
    "\n",
    "finer_T = np.linspace(3250, Tc_fit, 50)\n",
    "# finer_T = np.logspace(np.log(3500), np.log(Tc_fit), 100)\n",
    "# === Example: compute fitted rho_l and rho_v on original T points ===\n",
    "rho_l_fitted = rho_l_fit(finer_T)\n",
    "rho_v_fitted = rho_v_fit(finer_T)"
   ]
  },
  {
   "cell_type": "code",
   "execution_count": 188,
   "id": "ba77bbef-d322-45b1-8fb7-21f9327f0d51",
   "metadata": {},
   "outputs": [],
   "source": [
    "# Constants\n",
    "M_Al = 26.9815               # g/mol, molar mass of Aluminum\n",
    "N_A = 6.02214076e23          # 1/mol, Avogadro's number\n",
    "k_B = 1.380649e-23           # J/K, Boltzmann constant\n",
    "Pa_to_bar = 1e-5\n",
    "Pa_to_atm = 1.0 / 101325.0\n",
    "\n",
    "def vapor_pressure(rho_gcm3, T):\n",
    "    \"\"\"\n",
    "    Compute vapor pressure of Al vapor from mass density and T\n",
    "    using the ideal gas law.\n",
    "    \n",
    "    Parameters\n",
    "    ----------\n",
    "    rho_gcm3 : float\n",
    "        Mass density [g/cm^3]\n",
    "    T : float\n",
    "        Temperature [K]\n",
    "        \n",
    "    Returns\n",
    "    -------\n",
    "    P_Pa, P_bar, P_atm : tuple of floats\n",
    "        Pressure in Pa, bar, atm\n",
    "    \"\"\"\n",
    "    # Number density [atoms/cm^3]\n",
    "    n_cm3 = (rho_gcm3 / M_Al) * N_A\n",
    "    \n",
    "    # Convert to [atoms/m^3]\n",
    "    n_m3 = n_cm3 * 1e6\n",
    "    \n",
    "    # Ideal gas law\n",
    "    P_Pa = n_m3 * k_B * T\n",
    "    # return P_Pa, P_Pa * Pa_to_bar, P_Pa * Pa_to_atm    \n",
    "    return P_Pa * Pa_to_bar"
   ]
  },
  {
   "cell_type": "code",
   "execution_count": 189,
   "id": "00195c46-3957-4cf8-b68f-f4f244f978fb",
   "metadata": {},
   "outputs": [
    {
     "data": {
      "text/plain": [
       "array([0.00325263, 0.00322903, 0.0032893 , 0.00343646, 0.00367369,\n",
       "       0.00400437, 0.00443208, 0.00496064, 0.00559408, 0.00633673,\n",
       "       0.00719321, 0.00816844, 0.00926769, 0.01049664, 0.01186137,\n",
       "       0.01336844, 0.01502494, 0.01683851, 0.01881748, 0.02097087,\n",
       "       0.02330852, 0.02584121, 0.02858074, 0.03154009, 0.03473363,\n",
       "       0.03817724, 0.04188864, 0.0458876 , 0.05019637, 0.05484006,\n",
       "       0.05984721, 0.06525043, 0.07108732, 0.07740146, 0.08424394,\n",
       "       0.09167515, 0.09976732, 0.10860799, 0.11830481, 0.1289925 ,\n",
       "       0.14084324, 0.15408258, 0.16901526, 0.18606927, 0.20587683,\n",
       "       0.22943824, 0.25850138, 0.29664468, 0.35380422, 0.59678817])"
      ]
     },
     "execution_count": 189,
     "metadata": {},
     "output_type": "execute_result"
    }
   ],
   "source": [
    "rho_v_fitted"
   ]
  },
  {
   "cell_type": "code",
   "execution_count": 190,
   "id": "e5aa060b-b3d5-4cfd-b180-da5de8fb1741",
   "metadata": {},
   "outputs": [
    {
     "data": {
      "text/plain": [
       "array([   32.5751134 ,    33.01085869,    34.31172403,    36.56210562,\n",
       "          39.85081739,    44.27143477,    49.9226741 ,    56.90881225,\n",
       "          65.34015187,    75.33353848,    87.01293663,   100.51007364,\n",
       "         115.96516104,   133.52770521,   153.35742146,   175.62526798,\n",
       "         200.51461961,   228.22260514,   258.96163722,   292.96116968,\n",
       "         330.46972522,   371.75724607,   417.11783299,   466.87295396,\n",
       "         521.37522501,   581.01289301,   646.21518665,   717.4587502 ,\n",
       "         795.27544037,   880.26185632,   973.09109778,  1074.52742158,\n",
       "        1185.44471944,  1306.85010639,  1439.914457  ,  1586.01255843,\n",
       "        1746.77684893,  1924.17079703,  2120.59143572,  2339.01651942,\n",
       "        2583.22246678,  2858.11946723,  3170.2907372 ,  3528.91078937,\n",
       "        3947.42640616,  4446.94459234,  5064.05068649,  5873.02663794,\n",
       "        7078.32704261, 12063.76940705])"
      ]
     },
     "execution_count": 190,
     "metadata": {},
     "output_type": "execute_result"
    }
   ],
   "source": [
    "vapor_pressure(rho_v_fitted, finer_T)"
   ]
  },
  {
   "cell_type": "code",
   "execution_count": 191,
   "id": "0a14668b-e7f3-4f41-bd03-ffd14f4ebb75",
   "metadata": {},
   "outputs": [],
   "source": [
    "# for file in density_files:\n",
    "#     data = np.loadtxt(file)\n",
    "#     T = float(file.split(\"/\")[2].split(\"-\")[1])\n",
    "#     rho = data[1]\n",
    "#     rhoerr = data[3]\n",
    "#     # print(\"%s %f\\n\" %(T, data[1]))\n",
    "#     T_P_data.append([T, vapor_pressure(rho, T)[1], vapor_pressure(rhoerr, T)[1]])"
   ]
  },
  {
   "cell_type": "code",
   "execution_count": 192,
   "id": "0b062d51-5353-4129-9b69-88c37b4ade88",
   "metadata": {},
   "outputs": [],
   "source": [
    "T_P_data = vapor_pressure(rho_v_fitted, finer_T)"
   ]
  },
  {
   "cell_type": "code",
   "execution_count": 193,
   "id": "e774c151-0da9-4b53-8c31-4487f8bbdae0",
   "metadata": {},
   "outputs": [],
   "source": [
    "TPdata = np.array(T_P_data, dtype='float')\n",
    "# TPdata"
   ]
  },
  {
   "cell_type": "code",
   "execution_count": 194,
   "id": "862458ff-be48-4f52-afff-905d3330c36d",
   "metadata": {},
   "outputs": [],
   "source": [
    "# Coexistence scaling law with fixed beta\n",
    "def August(T, B, C ):\n",
    "    return  np.exp(-B/T + C)"
   ]
  },
  {
   "cell_type": "code",
   "execution_count": 195,
   "id": "10d6884c-09cd-4ba8-99d4-febe8f9debd2",
   "metadata": {},
   "outputs": [],
   "source": [
    "def antoine_law(T, A, B, C):\n",
    "    return np.exp(A - B/(T + C))"
   ]
  },
  {
   "cell_type": "code",
   "execution_count": 196,
   "id": "a075dd76-b529-4202-b0f9-c21c5b3249f2",
   "metadata": {},
   "outputs": [],
   "source": [
    "def dippr_law(T, A, B, C = 0.0, D=0.0, E=0.0):\n",
    "    return np.exp(A + B/T + C *np.log(T) + D* T**E)"
   ]
  },
  {
   "cell_type": "code",
   "execution_count": 197,
   "id": "334815f9-5682-41f7-8e90-a63a1e27e71f",
   "metadata": {},
   "outputs": [],
   "source": [
    "from scipy.optimize import curve_fit\n",
    "\n",
    "from functools import partial"
   ]
  },
  {
   "cell_type": "code",
   "execution_count": 198,
   "id": "d751c1a3-294b-484f-ac2a-6ec04636039d",
   "metadata": {},
   "outputs": [],
   "source": [
    "hultgren = np.loadtxt(\"Hultgren.dat\")\n",
    "# hultgren"
   ]
  },
  {
   "cell_type": "code",
   "execution_count": 199,
   "id": "99bdc728-d324-45b1-abea-20fdcd4f7f80",
   "metadata": {},
   "outputs": [],
   "source": [
    "normal_hultgren = 10**(hultgren[:,1]) # in atm"
   ]
  },
  {
   "cell_type": "code",
   "execution_count": 200,
   "id": "d3f9ecf7-fc56-4251-9031-df5b1215daf8",
   "metadata": {},
   "outputs": [],
   "source": [
    "normal_T = 1000/hultgren[:,0] # in K"
   ]
  },
  {
   "cell_type": "code",
   "execution_count": 201,
   "id": "675ae21b-ea3d-4ac3-a68b-9ded9671edac",
   "metadata": {},
   "outputs": [
    {
     "data": {
      "text/plain": [
       "array([3.67063313e+04, 1.32128231e+01])"
      ]
     },
     "execution_count": 201,
     "metadata": {},
     "output_type": "execute_result"
    }
   ],
   "source": [
    "# Fit August law\n",
    "popt, pcov = curve_fit(August, normal_T, normal_hultgren, p0=[max(normal_T) , min(normal_hultgren)])\n",
    "popt"
   ]
  },
  {
   "cell_type": "code",
   "execution_count": 202,
   "id": "29a0d6a7-493f-4a96-a760-9257871a7a14",
   "metadata": {},
   "outputs": [
    {
     "data": {
      "text/plain": [
       "array([1.75018538e+01, 6.23007680e+04, 7.83059079e+02])"
      ]
     },
     "execution_count": 202,
     "metadata": {},
     "output_type": "execute_result"
    }
   ],
   "source": [
    "# Fit Antoine law\n",
    "popt_antoine, pcov_antoine = curve_fit(antoine_law, normal_T, normal_hultgren, p0=[15, 10000, 2])\n",
    "popt_antoine"
   ]
  },
  {
   "cell_type": "code",
   "execution_count": 203,
   "id": "67b653ba-2a4f-46e3-a59c-dcce867de5cf",
   "metadata": {},
   "outputs": [],
   "source": [
    "# fixedD = 0\n",
    "fixedE = 1\n",
    "# partial_dippr = partial(dippr_law, D = fixedD, E=fixedE)\n",
    "partial_dippr = partial(dippr_law, E=fixedE)"
   ]
  },
  {
   "cell_type": "code",
   "execution_count": 204,
   "id": "7f7d5706-7808-4693-931d-20e879de1279",
   "metadata": {},
   "outputs": [
    {
     "name": "stderr",
     "output_type": "stream",
     "text": [
      "/tmp/ipykernel_48222/2601608517.py:2: OptimizeWarning: Covariance of the parameters could not be estimated\n",
      "  popt_dippr, pcov_dippr = curve_fit(dippr_law, normal_T, normal_hultgren, p0=[10, -2e4, 1, 1e-6, 1])\n"
     ]
    },
    {
     "data": {
      "text/plain": [
       "array([-4.86766876e+01, -1.86156852e+04,  6.98470287e+00, -2.40496123e-04,\n",
       "       -2.25347441e+01])"
      ]
     },
     "execution_count": 204,
     "metadata": {},
     "output_type": "execute_result"
    }
   ],
   "source": [
    "# Fit DIPPR law\n",
    "popt_dippr, pcov_dippr = curve_fit(dippr_law, normal_T, normal_hultgren, p0=[10, -2e4, 1, 1e-6, 1])\n",
    "# A_fit, B_fit, C_fit, D_fit, E_fit = popt_dippr\n",
    "\n",
    "# popt_dippr, pcov_dippr = curve_fit(partial_dippr, (expdata[:,1]+273.15), expdata[:,0], p0=[2, -10000, 1, 1e-6])\n",
    "popt_dippr"
   ]
  },
  {
   "cell_type": "code",
   "execution_count": 205,
   "id": "f67d3bd2-ee2b-40ba-94d5-e78ee38a454b",
   "metadata": {},
   "outputs": [],
   "source": [
    "# popt_dippr"
   ]
  },
  {
   "cell_type": "code",
   "execution_count": null,
   "id": "75750ea8-21f9-41dd-98a4-c743f8179419",
   "metadata": {},
   "outputs": [],
   "source": []
  },
  {
   "cell_type": "code",
   "execution_count": 206,
   "id": "60fdb70a-ebfb-476e-9849-ab00a4e963b0",
   "metadata": {},
   "outputs": [
    {
     "data": {
      "text/plain": [
       "(array([0.00133322, 0.0066661 , 0.0133322 , 0.0266644 , 0.0533288 ,\n",
       "        0.0799932 , 0.133322  , 0.266644  , 0.533288  , 1.0132472 ]),\n",
       " array([-2.87509818, -2.17612818, -1.87509818, -1.57406818, -1.27303819,\n",
       "        -1.09694693, -0.87509818, -0.57406818, -0.27303819,  0.00571541]))"
      ]
     },
     "execution_count": 206,
     "metadata": {},
     "output_type": "execute_result"
    }
   ],
   "source": [
    "expdata[:,0], np.log10(expdata[:,0])"
   ]
  },
  {
   "cell_type": "code",
   "execution_count": 207,
   "id": "278aff2b-fe2c-4a32-8dd9-6c37b0c7170e",
   "metadata": {},
   "outputs": [
    {
     "data": {
      "text/plain": [
       "array([[ 0.49967, -2.6727 ],\n",
       "       [ 0.39987, -1.06709],\n",
       "       [ 0.3332 ,  0.01099],\n",
       "       [ 0.24957,  1.39235]])"
      ]
     },
     "execution_count": 207,
     "metadata": {},
     "output_type": "execute_result"
    }
   ],
   "source": [
    "npb = np.loadtxt(\"npb.dat\")\n",
    "npb"
   ]
  },
  {
   "cell_type": "code",
   "execution_count": 208,
   "id": "715a21ac-4d13-4707-b526-88d6fb15a800",
   "metadata": {},
   "outputs": [
    {
     "data": {
      "image/png": "[encoded data removed]",
      "text/plain": [
       "<Figure size 800x600 with 1 Axes>"
      ]
     },
     "metadata": {},
     "output_type": "display_data"
    }
   ],
   "source": [
    "# plt.figure(figsize=(9, 6))\n",
    "\n",
    "with plt.style.context(['science', 'nature','vibrant', \"notebook\", \"scatter\"]):\n",
    "    T_plot = np.linspace(min(full_T), max(full_T), 200)\n",
    "\n",
    "    fig, ins_ax = plt.subplots(1, 1, figsize=(8, 6))\n",
    "    # axs.set_ylim((-100, 1000))\n",
    "    # # fig.tight_layout()\n",
    "    # axs.set_xlabel(r\"T (K)\")\n",
    "    # axs.set_ylabel(r\"P (bar)\")\n",
    "    # axs.plot(expdata[:,1]+273.15, expdata[:,0], linestyle='', markersize=5, label='Stull exp.')\n",
    "\n",
    "    # axs.plot(1000/hultgren[:,0], 10**hultgren[:,1],  markersize=5, linestyle='', label='Hultgren exp.')\n",
    "    # axs.plot(1000/npb[:,0], 10**npb[:,1],  markersize=5, linestyle='', label='NP-B EAM')\n",
    "    \n",
    "    # axs.plot(T_plot, August(T_plot, *popt), '--', label='August Fit')\n",
    "    \n",
    "    # axs.plot(T_plot, antoine_law(T_plot, *popt_antoine), '--', label='Antoine Fit')\n",
    "    # axs.plot(T_plot, dippr_law(T_plot, *popt_dippr), '--', label='DIPPR Fit')\n",
    "    \n",
    "    # axs.errorbar(df['T(K)'], 1e3*df['P(kbar)'], linestyle='--', marker='s', markersize=5, label='PBEsol')\n",
    "    # # axs[0].errorbar(TPdata[:,0], TPdata[:,1], marker='o', label='Ideal gas law')\n",
    "    # axs.legend(frameon=True, fontsize=10, loc='center left')\n",
    "\n",
    "    # fig.tight_layout()\n",
    "\n",
    "    # ins_ax = axs.inset_axes([0.35, 0.55, 0.4, 0.4])\n",
    "    ins_ax.set_xlim((0.15,0.65))\n",
    "\n",
    "    ins_ax.set_ylim((-4,4))\n",
    "\n",
    "    ins_ax.set_xlabel(r\"1000/T\")\n",
    "    ins_ax.set_ylabel(r\"$\\log_{10}{P}$\")\n",
    "    ins_ax.plot(1000/(expdata[:,1]+273.15), np.log10(expdata[:,0])*bar2atm,  markersize=5, linestyle='', label='Stull exp.')\n",
    "    ins_ax.plot(hultgren[:,0], hultgren[:,1],  markersize=5, linestyle='', label='Hultgren exp.') # in atm\n",
    "    ins_ax.plot(npb[:,0], npb[:,1],  markersize=5, linestyle='', label='NP-B EAM') # in atm\n",
    "\n",
    "    ins_ax.plot(1000/T_plot, np.log10(August(T_plot, *popt)*bar2atm), '--', label='August Fit')\n",
    "    \n",
    "    # ins_ax.plot(1000/T_plot, np.log10(antoine_law(T_plot, *popt_antoine)*bar2atm), '--', label='Antoine Fit')\n",
    "    # ins_ax.plot(1000/T_plot, np.log10(dippr_law(T_plot, *popt_dippr)*bar2atm), '--', label='DIPPR Fit')\n",
    "    # vapor_pressure(rho_v_fitted, finer_T)\n",
    "    # ins_ax.plot(1000/finer_T, np.log10(vapor_pressure(rho_v_fitted, finer_T)*bar2atm), '--', label='Ideal gas Fit')\n",
    "\n",
    "    ins_ax.errorbar(1000/df['T(K)'], np.log10(1e3*df['P(kbar)'])*bar2atm, linestyle='--',  marker='s', markersize=5, fillstyle=None, label='PBEsol')\n",
    "    # ins_ax.grid()\n",
    "    ins_ax.axhline(0.0, color='grey', ls='--')\n",
    "    ins_ax.legend(frameon=True, fontsize=10)\n",
    "    # ins_ax.tight\n",
    "    # ins_ax.errorbar(1000/TPdata[:-1,0], np.log10(TPdata[:-1,1]*bar2atm), marker='o', fillstyle=None, label='Ideal gas law')\n",
    "    # ins_ax.legend()\n",
    "plt.savefig(\"clausius_clapeyron.png\", dpi=300)\n",
    "plt.show()"
   ]
  },
  {
   "cell_type": "code",
   "execution_count": 209,
   "id": "3999c8a9-910f-405d-945a-8f33c3293292",
   "metadata": {},
   "outputs": [
    {
     "name": "stdout",
     "output_type": "stream",
     "text": [
      "/public1/home/a8s000527/kluo/liq-vap-production/production/4000/analysis\n"
     ]
    }
   ],
   "source": [
    "!pwd"
   ]
  },
  {
   "cell_type": "code",
   "execution_count": null,
   "id": "5f3963b2-cf48-44ad-9c5d-9a8ba633f903",
   "metadata": {},
   "outputs": [],
   "source": []
  },
  {
   "cell_type": "code",
   "execution_count": null,
   "id": "1cab5e21-e919-4aba-9a83-8a96d602e729",
   "metadata": {},
   "outputs": [],
   "source": []
  },
  {
   "cell_type": "code",
   "execution_count": null,
   "id": "5f9d297d-58e6-48d4-bc74-c248c94f5577",
   "metadata": {},
   "outputs": [],
   "source": []
  }
 ],
 "metadata": {
  "kernelspec": {
   "display_name": "Python 3 (ipykernel)",
   "language": "python",
   "name": "python3"
  },
  "language_info": {
   "codemirror_mode": {
    "name": "ipython",
    "version": 3
   },
   "file_extension": ".py",
   "mimetype": "text/x-python",
   "name": "python",
   "nbconvert_exporter": "python",
   "pygments_lexer": "ipython3",
   "version": "3.13.5"
  }
 },
 "nbformat": 4,
 "nbformat_minor": 5
}
